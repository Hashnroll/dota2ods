{
 "cells": [
  {
   "cell_type": "code",
   "execution_count": 1,
   "metadata": {},
   "outputs": [],
   "source": [
    "import pandas as pd\n",
    "import numpy as np\n",
    "import os\n",
    "import datetime"
   ]
  },
  {
   "cell_type": "code",
   "execution_count": 2,
   "metadata": {},
   "outputs": [],
   "source": [
    "submission_xgb = pd.read_csv(\"./submission_xgb2019-11-18_18-46-09.csv\")"
   ]
  },
  {
   "cell_type": "code",
   "execution_count": 3,
   "metadata": {},
   "outputs": [],
   "source": [
    "submission_lgb = pd.read_csv(\"./submission_lgb2019-11-18_19-12-13.csv\")"
   ]
  },
  {
   "cell_type": "code",
   "execution_count": 4,
   "metadata": {},
   "outputs": [],
   "source": [
    "submission_cat = pd.read_csv(\"./submission_cat2019-11-18_19-12-23.csv\")"
   ]
  },
  {
   "cell_type": "code",
   "execution_count": 5,
   "metadata": {},
   "outputs": [],
   "source": [
    "submission_filename = 'submission_blend_{}.csv'.format(\n",
    "    datetime.datetime.now().strftime('%Y-%m-%d_%H-%M-%S'))"
   ]
  },
  {
   "cell_type": "code",
   "execution_count": 6,
   "metadata": {},
   "outputs": [
    {
     "data": {
      "text/html": [
       "<div>\n",
       "<style scoped>\n",
       "    .dataframe tbody tr th:only-of-type {\n",
       "        vertical-align: middle;\n",
       "    }\n",
       "\n",
       "    .dataframe tbody tr th {\n",
       "        vertical-align: top;\n",
       "    }\n",
       "\n",
       "    .dataframe thead th {\n",
       "        text-align: right;\n",
       "    }\n",
       "</style>\n",
       "<table border=\"1\" class=\"dataframe\">\n",
       "  <thead>\n",
       "    <tr style=\"text-align: right;\">\n",
       "      <th></th>\n",
       "      <th>match_id_hash</th>\n",
       "      <th>radiant_win_prob</th>\n",
       "    </tr>\n",
       "  </thead>\n",
       "  <tbody>\n",
       "    <tr>\n",
       "      <td>0</td>\n",
       "      <td>30cc2d778dca82f2edb568ce9b585caa</td>\n",
       "      <td>0.270838</td>\n",
       "    </tr>\n",
       "    <tr>\n",
       "      <td>1</td>\n",
       "      <td>70e5ba30f367cea48793b9003fab9d38</td>\n",
       "      <td>0.990411</td>\n",
       "    </tr>\n",
       "    <tr>\n",
       "      <td>2</td>\n",
       "      <td>4d9ef74d3a2025d79e9423105fd73d41</td>\n",
       "      <td>0.963250</td>\n",
       "    </tr>\n",
       "    <tr>\n",
       "      <td>3</td>\n",
       "      <td>2bb79e0c1eaac1608e5a09c8e0c6a555</td>\n",
       "      <td>0.835063</td>\n",
       "    </tr>\n",
       "    <tr>\n",
       "      <td>4</td>\n",
       "      <td>bec17f099b01d67edc82dfb5ce735a43</td>\n",
       "      <td>0.235208</td>\n",
       "    </tr>\n",
       "  </tbody>\n",
       "</table>\n",
       "</div>"
      ],
      "text/plain": [
       "                      match_id_hash  radiant_win_prob\n",
       "0  30cc2d778dca82f2edb568ce9b585caa          0.270838\n",
       "1  70e5ba30f367cea48793b9003fab9d38          0.990411\n",
       "2  4d9ef74d3a2025d79e9423105fd73d41          0.963250\n",
       "3  2bb79e0c1eaac1608e5a09c8e0c6a555          0.835063\n",
       "4  bec17f099b01d67edc82dfb5ce735a43          0.235208"
      ]
     },
     "execution_count": 6,
     "metadata": {},
     "output_type": "execute_result"
    }
   ],
   "source": [
    "submission_blend = pd.DataFrame()\n",
    "submission_blend['match_id_hash'] = submission_xgb['match_id_hash']\n",
    "submission_blend['radiant_win_prob'] = 0.3*submission_cat['radiant_win_prob'] + 0.4*submission_lgb['radiant_win_prob']+ \\\n",
    "                                  0.3*submission_xgb['radiant_win_prob']\n",
    "\n",
    "submission_blend.to_csv(submission_filename,index=False)\n",
    "submission_blend.head()"
   ]
  },
  {
   "cell_type": "code",
   "execution_count": null,
   "metadata": {},
   "outputs": [],
   "source": []
  }
 ],
 "metadata": {
  "kernelspec": {
   "display_name": "Python 3",
   "language": "python",
   "name": "python3"
  },
  "language_info": {
   "codemirror_mode": {
    "name": "ipython",
    "version": 3
   },
   "file_extension": ".py",
   "mimetype": "text/x-python",
   "name": "python",
   "nbconvert_exporter": "python",
   "pygments_lexer": "ipython3",
   "version": "3.6.9"
  }
 },
 "nbformat": 4,
 "nbformat_minor": 2
}
